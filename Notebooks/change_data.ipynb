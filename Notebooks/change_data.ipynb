{
 "cells": [
  {
   "cell_type": "code",
   "execution_count": 28,
   "id": "18b8d78f",
   "metadata": {},
   "outputs": [],
   "source": [
    "import numpy as np\n",
    "import os\n",
    "import glob\n",
    "import torch\n",
    "from torch.nn import functional as F\n",
    "\n",
    "import glob"
   ]
  },
  {
   "cell_type": "code",
   "execution_count": 29,
   "id": "a2208e37",
   "metadata": {},
   "outputs": [],
   "source": [
    "folder = '../datasets/head/head'\n",
    "\n",
    "N = len(glob.glob(os.path.join(folder, '*.npy')))//2"
   ]
  },
  {
   "cell_type": "code",
   "execution_count": 30,
   "id": "dd7b7975",
   "metadata": {},
   "outputs": [],
   "source": [
    "for idx in range(N):\n",
    "    p1 = os.path.join(folder, str(idx).zfill(7)+'_1.npy')\n",
    "    p2 = os.path.join(folder, str(idx).zfill(7)+'_2.npy')\n",
    "\n",
    "    x1 = np.load(p1)\n",
    "    x2 = np.load(p2)\n",
    "\n",
    "    x = np.concatenate((x1,x2), axis=1).astype(np.float32)\n",
    "    np.save(os.path.join(folder, str(idx).zfill(7)+'.npy'), x)\n",
    "    \n",
    "    with open(os.path.join(folder[:-5], 'head1.txt'), 'a') as fff:\n",
    "        fff.write('head' + '/' + str(idx).zfill(7)+'.npy' + '\\n')"
   ]
  }
 ],
 "metadata": {
  "hide_input": false,
  "kernelspec": {
   "display_name": "Python 3 (ipykernel)",
   "language": "python",
   "name": "python3"
  },
  "language_info": {
   "codemirror_mode": {
    "name": "ipython",
    "version": 3
   },
   "file_extension": ".py",
   "mimetype": "text/x-python",
   "name": "python",
   "nbconvert_exporter": "python",
   "pygments_lexer": "ipython3",
   "version": "3.9.16"
  }
 },
 "nbformat": 4,
 "nbformat_minor": 5
}
