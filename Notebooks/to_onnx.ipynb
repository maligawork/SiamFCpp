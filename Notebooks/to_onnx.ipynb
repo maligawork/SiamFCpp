{
 "cells": [
  {
   "cell_type": "code",
   "execution_count": 1,
   "id": "ea05040d",
   "metadata": {},
   "outputs": [],
   "source": [
    "import os\n",
    "import sys\n",
    "\n",
    "import torch\n",
    "import torch.nn as nn\n",
    "import numpy as np\n",
    "\n",
    "import onnx\n",
    "from onnxsim import simplify\n",
    "import onnxruntime\n",
    "\n",
    "sys.path.append('../')\n",
    "\n",
    "from siamfcpp.config.config import cfg as root_cfg\n",
    "from siamfcpp.config.config import specify_task        \n",
    "from siamfcpp.engine.builder import build as tester_builder\n",
    "from siamfcpp.model import builder as model_builder\n",
    "from siamfcpp.pipeline import builder as pipeline_builder\n",
    "from siamfcpp.utils import complete_path_wt_root_in_cfg"
   ]
  },
  {
   "cell_type": "code",
   "execution_count": 2,
   "id": "ea45e289",
   "metadata": {},
   "outputs": [],
   "source": [
    "config = '../models/siamfcpp/test/vot/siamfcpp_alexnet.yaml'\n",
    "model_path = '../models/snapshots/siamfcpp_alexnet-got/epoch-17.pkl'"
   ]
  },
  {
   "cell_type": "code",
   "execution_count": 3,
   "id": "1d93d47a",
   "metadata": {},
   "outputs": [],
   "source": [
    "exp_cfg_path = os.path.realpath(config)\n",
    "root_cfg.merge_from_file(exp_cfg_path)\n",
    "root_cfg.test.track.model.task_model.SiamTrack.pretrain_model_path = model_path\n",
    "\n",
    "# ROOT_PATH = os.getcwd() \n",
    "# root_cfg = complete_path_wt_root_in_cfg(root_cfg, ROOT_PATH)\n",
    "root_cfg = root_cfg.test\n",
    "task, task_cfg = specify_task(root_cfg)\n",
    "task_cfg.freeze()\n",
    "\n",
    "torch.multiprocessing.set_start_method('spawn', force=True)"
   ]
  },
  {
   "cell_type": "code",
   "execution_count": 4,
   "id": "08a12452",
   "metadata": {},
   "outputs": [
    {
     "name": "stderr",
     "output_type": "stream",
     "text": [
      "2023-03-08 16:32:24.771 | INFO     | siamfcpp.model.module_base:update_params:60 - Load pretrained SiamTrack parameters from: ../models/snapshots/siamfcpp_alexnet-got/epoch-17.pkl whose md5sum is 2a050730626f1b083baed91f9a5c4a52\n"
     ]
    }
   ],
   "source": [
    "model = model_builder.build(\"track\", task_cfg.model)"
   ]
  },
  {
   "cell_type": "markdown",
   "id": "592c37f2",
   "metadata": {},
   "source": [
    "#### backbone_init"
   ]
  },
  {
   "cell_type": "code",
   "execution_count": 7,
   "id": "e96727c8",
   "metadata": {},
   "outputs": [],
   "source": [
    "class MyModel(nn.Module):\n",
    "    def __init__(self, main_model):\n",
    "        super(MyModel, self).__init__()\n",
    "        self.main_model = main_model\n",
    "        \n",
    "    def forward(self, x):\n",
    "        x = self.main_model.basemodel(x)\n",
    "        c_z_k = self.main_model.c_z_k(x)\n",
    "        r_z_k = self.main_model.r_z_k(x)\n",
    "        \n",
    "        return c_z_k, r_z_k"
   ]
  },
  {
   "cell_type": "code",
   "execution_count": 10,
   "id": "7bb2e724",
   "metadata": {
    "scrolled": true
   },
   "outputs": [
    {
     "name": "stdout",
     "output_type": "stream",
     "text": [
      "graph(%input : Float(1, 3, 127, 127, strides=[48387, 16129, 127, 1], requires_grad=0, device=cpu),\n",
      "      %130 : Float(96, 3, 11, 11, strides=[363, 121, 11, 1], requires_grad=0, device=cpu),\n",
      "      %131 : Float(96, strides=[1], requires_grad=0, device=cpu),\n",
      "      %133 : Float(256, 96, 5, 5, strides=[2400, 25, 5, 1], requires_grad=0, device=cpu),\n",
      "      %134 : Float(256, strides=[1], requires_grad=0, device=cpu),\n",
      "      %136 : Float(384, 256, 3, 3, strides=[2304, 9, 3, 1], requires_grad=0, device=cpu),\n",
      "      %137 : Float(384, strides=[1], requires_grad=0, device=cpu),\n",
      "      %139 : Float(384, 384, 3, 3, strides=[3456, 9, 3, 1], requires_grad=0, device=cpu),\n",
      "      %140 : Float(384, strides=[1], requires_grad=0, device=cpu),\n",
      "      %142 : Float(256, 384, 3, 3, strides=[3456, 9, 3, 1], requires_grad=0, device=cpu),\n",
      "      %143 : Float(256, strides=[1], requires_grad=0, device=cpu),\n",
      "      %145 : Float(256, 256, 3, 3, strides=[2304, 9, 3, 1], requires_grad=0, device=cpu),\n",
      "      %146 : Float(256, strides=[1], requires_grad=0, device=cpu),\n",
      "      %148 : Float(256, 256, 3, 3, strides=[2304, 9, 3, 1], requires_grad=0, device=cpu),\n",
      "      %149 : Float(256, strides=[1], requires_grad=0, device=cpu)):\n",
      "  %input.4 : Float(1, 96, 59, 59, strides=[334176, 3481, 59, 1], requires_grad=1, device=cpu) = onnx::Conv[dilations=[1, 1], group=1, kernel_shape=[11, 11], pads=[0, 0, 0, 0], strides=[2, 2]](%input, %130, %131) # C:\\Users\\isd.illia.maliha\\Anaconda3\\envs\\cv\\lib\\site-packages\\torch\\nn\\modules\\conv.py:443:0\n",
      "  %111 : Float(1, 96, 59, 59, strides=[334176, 3481, 59, 1], requires_grad=1, device=cpu) = onnx::Relu(%input.4) # C:\\Users\\isd.illia.maliha\\Anaconda3\\envs\\cv\\lib\\site-packages\\torch\\nn\\functional.py:1442:0\n",
      "  %input.8 : Float(1, 96, 29, 29, strides=[80736, 841, 29, 1], requires_grad=1, device=cpu) = onnx::MaxPool[ceil_mode=1, kernel_shape=[3, 3], pads=[0, 0, 0, 0], strides=[2, 2]](%111) # C:\\Users\\isd.illia.maliha\\Anaconda3\\envs\\cv\\lib\\site-packages\\torch\\nn\\functional.py:797:0\n",
      "  %input.16 : Float(1, 256, 25, 25, strides=[160000, 625, 25, 1], requires_grad=1, device=cpu) = onnx::Conv[dilations=[1, 1], group=1, kernel_shape=[5, 5], pads=[0, 0, 0, 0], strides=[1, 1]](%input.8, %133, %134) # C:\\Users\\isd.illia.maliha\\Anaconda3\\envs\\cv\\lib\\site-packages\\torch\\nn\\modules\\conv.py:443:0\n",
      "  %115 : Float(1, 256, 25, 25, strides=[160000, 625, 25, 1], requires_grad=1, device=cpu) = onnx::Relu(%input.16) # C:\\Users\\isd.illia.maliha\\Anaconda3\\envs\\cv\\lib\\site-packages\\torch\\nn\\functional.py:1442:0\n",
      "  %input.20 : Float(1, 256, 12, 12, strides=[36864, 144, 12, 1], requires_grad=1, device=cpu) = onnx::MaxPool[ceil_mode=1, kernel_shape=[3, 3], pads=[0, 0, 0, 0], strides=[2, 2]](%115) # C:\\Users\\isd.illia.maliha\\Anaconda3\\envs\\cv\\lib\\site-packages\\torch\\nn\\functional.py:797:0\n",
      "  %input.28 : Float(1, 384, 10, 10, strides=[38400, 100, 10, 1], requires_grad=1, device=cpu) = onnx::Conv[dilations=[1, 1], group=1, kernel_shape=[3, 3], pads=[0, 0, 0, 0], strides=[1, 1]](%input.20, %136, %137) # C:\\Users\\isd.illia.maliha\\Anaconda3\\envs\\cv\\lib\\site-packages\\torch\\nn\\modules\\conv.py:443:0\n",
      "  %input.32 : Float(1, 384, 10, 10, strides=[38400, 100, 10, 1], requires_grad=1, device=cpu) = onnx::Relu(%input.28) # C:\\Users\\isd.illia.maliha\\Anaconda3\\envs\\cv\\lib\\site-packages\\torch\\nn\\functional.py:1442:0\n",
      "  %input.40 : Float(1, 384, 8, 8, strides=[24576, 64, 8, 1], requires_grad=1, device=cpu) = onnx::Conv[dilations=[1, 1], group=1, kernel_shape=[3, 3], pads=[0, 0, 0, 0], strides=[1, 1]](%input.32, %139, %140) # C:\\Users\\isd.illia.maliha\\Anaconda3\\envs\\cv\\lib\\site-packages\\torch\\nn\\modules\\conv.py:443:0\n",
      "  %input.44 : Float(1, 384, 8, 8, strides=[24576, 64, 8, 1], requires_grad=1, device=cpu) = onnx::Relu(%input.40) # C:\\Users\\isd.illia.maliha\\Anaconda3\\envs\\cv\\lib\\site-packages\\torch\\nn\\functional.py:1442:0\n",
      "  %input.52 : Float(1, 256, 6, 6, strides=[9216, 36, 6, 1], requires_grad=1, device=cpu) = onnx::Conv[dilations=[1, 1], group=1, kernel_shape=[3, 3], pads=[0, 0, 0, 0], strides=[1, 1]](%input.44, %142, %143) # C:\\Users\\isd.illia.maliha\\Anaconda3\\envs\\cv\\lib\\site-packages\\torch\\nn\\modules\\conv.py:443:0\n",
      "  %c_z_k : Float(1, 256, 4, 4, strides=[4096, 16, 4, 1], requires_grad=1, device=cpu) = onnx::Conv[dilations=[1, 1], group=1, kernel_shape=[3, 3], pads=[0, 0, 0, 0], strides=[1, 1]](%input.52, %145, %146) # C:\\Users\\isd.illia.maliha\\Anaconda3\\envs\\cv\\lib\\site-packages\\torch\\nn\\modules\\conv.py:443:0\n",
      "  %r_z_k : Float(1, 256, 4, 4, strides=[4096, 16, 4, 1], requires_grad=1, device=cpu) = onnx::Conv[dilations=[1, 1], group=1, kernel_shape=[3, 3], pads=[0, 0, 0, 0], strides=[1, 1]](%input.52, %148, %149) # C:\\Users\\isd.illia.maliha\\Anaconda3\\envs\\cv\\lib\\site-packages\\torch\\nn\\modules\\conv.py:443:0\n",
      "  return (%c_z_k, %r_z_k)\n",
      "\n"
     ]
    }
   ],
   "source": [
    "small_model = MyModel(model)\n",
    "inp = torch.Tensor(np.random.uniform(size=(1,3,127,127)).astype(np.float32))\n",
    "\n",
    "out = small_model(inp)\n",
    "\n",
    "small_model_path = '../models/onnx/backbone_init.onnx'\n",
    "\n",
    "torch.onnx.export(small_model, \n",
    "                  inp, \n",
    "                  small_model_path, \n",
    "                  input_names=['input'], output_names=['c_z_k', 'r_z_k'],\n",
    "                  verbose=True, opset_version=11) \n",
    "\n",
    "simplified_model, check = simplify(small_model_path, skip_fuse_bn=False)\n",
    "onnx.save_model(simplified_model, small_model_path)"
   ]
  },
  {
   "cell_type": "markdown",
   "id": "ffcb2054",
   "metadata": {},
   "source": [
    "#### backbone"
   ]
  },
  {
   "cell_type": "code",
   "execution_count": 12,
   "id": "36eaaccf",
   "metadata": {},
   "outputs": [],
   "source": [
    "class MyModel(nn.Module):\n",
    "    def __init__(self, main_model):\n",
    "        super(MyModel, self).__init__()\n",
    "        self.main_model = main_model\n",
    "        \n",
    "    def forward(self, x):\n",
    "        x = self.main_model.basemodel(x)\n",
    "        c_x = self.main_model.c_x(x)\n",
    "        r_x = self.main_model.r_x(x)\n",
    "        \n",
    "        return c_x, r_x"
   ]
  },
  {
   "cell_type": "code",
   "execution_count": 13,
   "id": "c59c0a26",
   "metadata": {
    "scrolled": true
   },
   "outputs": [
    {
     "name": "stdout",
     "output_type": "stream",
     "text": [
      "graph(%input : Float(1, 3, 303, 303, strides=[275427, 91809, 303, 1], requires_grad=0, device=cpu),\n",
      "      %130 : Float(96, 3, 11, 11, strides=[363, 121, 11, 1], requires_grad=0, device=cpu),\n",
      "      %131 : Float(96, strides=[1], requires_grad=0, device=cpu),\n",
      "      %133 : Float(256, 96, 5, 5, strides=[2400, 25, 5, 1], requires_grad=0, device=cpu),\n",
      "      %134 : Float(256, strides=[1], requires_grad=0, device=cpu),\n",
      "      %136 : Float(384, 256, 3, 3, strides=[2304, 9, 3, 1], requires_grad=0, device=cpu),\n",
      "      %137 : Float(384, strides=[1], requires_grad=0, device=cpu),\n",
      "      %139 : Float(384, 384, 3, 3, strides=[3456, 9, 3, 1], requires_grad=0, device=cpu),\n",
      "      %140 : Float(384, strides=[1], requires_grad=0, device=cpu),\n",
      "      %142 : Float(256, 384, 3, 3, strides=[3456, 9, 3, 1], requires_grad=0, device=cpu),\n",
      "      %143 : Float(256, strides=[1], requires_grad=0, device=cpu),\n",
      "      %145 : Float(256, 256, 3, 3, strides=[2304, 9, 3, 1], requires_grad=0, device=cpu),\n",
      "      %146 : Float(256, strides=[1], requires_grad=0, device=cpu),\n",
      "      %148 : Float(256, 256, 3, 3, strides=[2304, 9, 3, 1], requires_grad=0, device=cpu),\n",
      "      %149 : Float(256, strides=[1], requires_grad=0, device=cpu)):\n",
      "  %input.4 : Float(1, 96, 147, 147, strides=[2074464, 21609, 147, 1], requires_grad=1, device=cpu) = onnx::Conv[dilations=[1, 1], group=1, kernel_shape=[11, 11], pads=[0, 0, 0, 0], strides=[2, 2]](%input, %130, %131) # C:\\Users\\isd.illia.maliha\\Anaconda3\\envs\\cv\\lib\\site-packages\\torch\\nn\\modules\\conv.py:443:0\n",
      "  %111 : Float(1, 96, 147, 147, strides=[2074464, 21609, 147, 1], requires_grad=1, device=cpu) = onnx::Relu(%input.4) # C:\\Users\\isd.illia.maliha\\Anaconda3\\envs\\cv\\lib\\site-packages\\torch\\nn\\functional.py:1442:0\n",
      "  %input.8 : Float(1, 96, 73, 73, strides=[511584, 5329, 73, 1], requires_grad=1, device=cpu) = onnx::MaxPool[ceil_mode=1, kernel_shape=[3, 3], pads=[0, 0, 0, 0], strides=[2, 2]](%111) # C:\\Users\\isd.illia.maliha\\Anaconda3\\envs\\cv\\lib\\site-packages\\torch\\nn\\functional.py:797:0\n",
      "  %input.16 : Float(1, 256, 69, 69, strides=[1218816, 4761, 69, 1], requires_grad=1, device=cpu) = onnx::Conv[dilations=[1, 1], group=1, kernel_shape=[5, 5], pads=[0, 0, 0, 0], strides=[1, 1]](%input.8, %133, %134) # C:\\Users\\isd.illia.maliha\\Anaconda3\\envs\\cv\\lib\\site-packages\\torch\\nn\\modules\\conv.py:443:0\n",
      "  %115 : Float(1, 256, 69, 69, strides=[1218816, 4761, 69, 1], requires_grad=1, device=cpu) = onnx::Relu(%input.16) # C:\\Users\\isd.illia.maliha\\Anaconda3\\envs\\cv\\lib\\site-packages\\torch\\nn\\functional.py:1442:0\n",
      "  %input.20 : Float(1, 256, 34, 34, strides=[295936, 1156, 34, 1], requires_grad=1, device=cpu) = onnx::MaxPool[ceil_mode=1, kernel_shape=[3, 3], pads=[0, 0, 0, 0], strides=[2, 2]](%115) # C:\\Users\\isd.illia.maliha\\Anaconda3\\envs\\cv\\lib\\site-packages\\torch\\nn\\functional.py:797:0\n",
      "  %input.28 : Float(1, 384, 32, 32, strides=[393216, 1024, 32, 1], requires_grad=1, device=cpu) = onnx::Conv[dilations=[1, 1], group=1, kernel_shape=[3, 3], pads=[0, 0, 0, 0], strides=[1, 1]](%input.20, %136, %137) # C:\\Users\\isd.illia.maliha\\Anaconda3\\envs\\cv\\lib\\site-packages\\torch\\nn\\modules\\conv.py:443:0\n",
      "  %input.32 : Float(1, 384, 32, 32, strides=[393216, 1024, 32, 1], requires_grad=1, device=cpu) = onnx::Relu(%input.28) # C:\\Users\\isd.illia.maliha\\Anaconda3\\envs\\cv\\lib\\site-packages\\torch\\nn\\functional.py:1442:0\n",
      "  %input.40 : Float(1, 384, 30, 30, strides=[345600, 900, 30, 1], requires_grad=1, device=cpu) = onnx::Conv[dilations=[1, 1], group=1, kernel_shape=[3, 3], pads=[0, 0, 0, 0], strides=[1, 1]](%input.32, %139, %140) # C:\\Users\\isd.illia.maliha\\Anaconda3\\envs\\cv\\lib\\site-packages\\torch\\nn\\modules\\conv.py:443:0\n",
      "  %input.44 : Float(1, 384, 30, 30, strides=[345600, 900, 30, 1], requires_grad=1, device=cpu) = onnx::Relu(%input.40) # C:\\Users\\isd.illia.maliha\\Anaconda3\\envs\\cv\\lib\\site-packages\\torch\\nn\\functional.py:1442:0\n",
      "  %input.52 : Float(1, 256, 28, 28, strides=[200704, 784, 28, 1], requires_grad=1, device=cpu) = onnx::Conv[dilations=[1, 1], group=1, kernel_shape=[3, 3], pads=[0, 0, 0, 0], strides=[1, 1]](%input.44, %142, %143) # C:\\Users\\isd.illia.maliha\\Anaconda3\\envs\\cv\\lib\\site-packages\\torch\\nn\\modules\\conv.py:443:0\n",
      "  %c_x : Float(1, 256, 26, 26, strides=[173056, 676, 26, 1], requires_grad=1, device=cpu) = onnx::Conv[dilations=[1, 1], group=1, kernel_shape=[3, 3], pads=[0, 0, 0, 0], strides=[1, 1]](%input.52, %145, %146) # C:\\Users\\isd.illia.maliha\\Anaconda3\\envs\\cv\\lib\\site-packages\\torch\\nn\\modules\\conv.py:443:0\n",
      "  %r_x : Float(1, 256, 26, 26, strides=[173056, 676, 26, 1], requires_grad=1, device=cpu) = onnx::Conv[dilations=[1, 1], group=1, kernel_shape=[3, 3], pads=[0, 0, 0, 0], strides=[1, 1]](%input.52, %148, %149) # C:\\Users\\isd.illia.maliha\\Anaconda3\\envs\\cv\\lib\\site-packages\\torch\\nn\\modules\\conv.py:443:0\n",
      "  return (%c_x, %r_x)\n",
      "\n"
     ]
    }
   ],
   "source": [
    "backbone = MyModel(model)\n",
    "inp = torch.Tensor(np.random.uniform(size=(1,3,303,303)).astype(np.float32))\n",
    "\n",
    "out = backbone(inp)\n",
    "\n",
    "small_model_path = '../models/onnx/backbone.onnx'\n",
    "\n",
    "torch.onnx.export(small_model, \n",
    "                  inp, \n",
    "                  small_model_path, \n",
    "                  input_names=['input'], output_names=['c_x', 'r_x'],\n",
    "                  verbose=True, opset_version=11) \n",
    "\n",
    "simplified_model, check = simplify(small_model_path, skip_fuse_bn=False)\n",
    "onnx.save_model(simplified_model, small_model_path)"
   ]
  },
  {
   "cell_type": "markdown",
   "id": "7ac90296",
   "metadata": {},
   "source": [
    "#### head"
   ]
  },
  {
   "cell_type": "code",
   "execution_count": 34,
   "id": "ff3b7072",
   "metadata": {},
   "outputs": [
    {
     "name": "stdout",
     "output_type": "stream",
     "text": [
      "graph(%input1 : Float(1, 256, 23, 23, strides=[135424, 529, 23, 1], requires_grad=0, device=cpu),\n",
      "      %input2 : Float(1, 256, 23, 23, strides=[135424, 529, 23, 1], requires_grad=0, device=cpu),\n",
      "      %bi : Float(requires_grad=1, device=cpu),\n",
      "      %si : Float(requires_grad=1, device=cpu),\n",
      "      %cls_p5_conv1.conv.weight : Float(256, 256, 3, 3, strides=[2304, 9, 3, 1], requires_grad=1, device=cpu),\n",
      "      %cls_p5_conv1.conv.bias : Float(256, strides=[1], requires_grad=1, device=cpu),\n",
      "      %bbox_p5_conv1.conv.weight : Float(256, 256, 3, 3, strides=[2304, 9, 3, 1], requires_grad=1, device=cpu),\n",
      "      %bbox_p5_conv1.conv.bias : Float(256, strides=[1], requires_grad=1, device=cpu),\n",
      "      %cls_p5_conv2.conv.weight : Float(256, 256, 3, 3, strides=[2304, 9, 3, 1], requires_grad=1, device=cpu),\n",
      "      %cls_p5_conv2.conv.bias : Float(256, strides=[1], requires_grad=1, device=cpu),\n",
      "      %bbox_p5_conv2.conv.weight : Float(256, 256, 3, 3, strides=[2304, 9, 3, 1], requires_grad=1, device=cpu),\n",
      "      %bbox_p5_conv2.conv.bias : Float(256, strides=[1], requires_grad=1, device=cpu),\n",
      "      %115 : Float(256, 256, 3, 3, strides=[2304, 9, 3, 1], requires_grad=0, device=cpu),\n",
      "      %116 : Float(256, strides=[1], requires_grad=0, device=cpu),\n",
      "      %118 : Float(256, 256, 3, 3, strides=[2304, 9, 3, 1], requires_grad=0, device=cpu),\n",
      "      %119 : Float(256, strides=[1], requires_grad=0, device=cpu),\n",
      "      %121 : Float(1, 256, 1, 1, strides=[256, 1, 1, 1], requires_grad=0, device=cpu),\n",
      "      %122 : Float(1, strides=[1], requires_grad=0, device=cpu),\n",
      "      %124 : Float(1, 256, 1, 1, strides=[256, 1, 1, 1], requires_grad=0, device=cpu),\n",
      "      %125 : Float(1, strides=[1], requires_grad=0, device=cpu),\n",
      "      %127 : Float(4, 256, 1, 1, strides=[256, 1, 1, 1], requires_grad=0, device=cpu),\n",
      "      %128 : Float(4, strides=[1], requires_grad=0, device=cpu),\n",
      "      %132 : Long(3, strides=[1], requires_grad=0, device=cpu),\n",
      "      %136 : Long(3, strides=[1], requires_grad=0, device=cpu),\n",
      "      %140 : Long(3, strides=[1], requires_grad=0, device=cpu)):\n",
      "  %input : Float(1, 256, 21, 21, strides=[112896, 441, 21, 1], requires_grad=0, device=cpu) = onnx::Conv[dilations=[1, 1], group=1, kernel_shape=[3, 3], pads=[0, 0, 0, 0], strides=[1, 1]](%input1, %cls_p5_conv1.conv.weight, %cls_p5_conv1.conv.bias) # C:\\Users\\isd.illia.maliha\\Anaconda3\\envs\\cv\\lib\\site-packages\\torch\\nn\\modules\\conv.py:443:0\n",
      "  %input.4 : Float(1, 256, 21, 21, strides=[112896, 441, 21, 1], requires_grad=1, device=cpu) = onnx::Relu(%input) # C:\\Users\\isd.illia.maliha\\Anaconda3\\envs\\cv\\lib\\site-packages\\torch\\nn\\functional.py:1442:0\n",
      "  %input.8 : Float(1, 256, 21, 21, strides=[112896, 441, 21, 1], requires_grad=0, device=cpu) = onnx::Conv[dilations=[1, 1], group=1, kernel_shape=[3, 3], pads=[0, 0, 0, 0], strides=[1, 1]](%input2, %bbox_p5_conv1.conv.weight, %bbox_p5_conv1.conv.bias) # C:\\Users\\isd.illia.maliha\\Anaconda3\\envs\\cv\\lib\\site-packages\\torch\\nn\\modules\\conv.py:443:0\n",
      "  %input.12 : Float(1, 256, 21, 21, strides=[112896, 441, 21, 1], requires_grad=1, device=cpu) = onnx::Relu(%input.8) # C:\\Users\\isd.illia.maliha\\Anaconda3\\envs\\cv\\lib\\site-packages\\torch\\nn\\functional.py:1442:0\n",
      "  %input.16 : Float(1, 256, 19, 19, strides=[92416, 361, 19, 1], requires_grad=0, device=cpu) = onnx::Conv[dilations=[1, 1], group=1, kernel_shape=[3, 3], pads=[0, 0, 0, 0], strides=[1, 1]](%input.4, %cls_p5_conv2.conv.weight, %cls_p5_conv2.conv.bias) # C:\\Users\\isd.illia.maliha\\Anaconda3\\envs\\cv\\lib\\site-packages\\torch\\nn\\modules\\conv.py:443:0\n",
      "  %input.20 : Float(1, 256, 19, 19, strides=[92416, 361, 19, 1], requires_grad=1, device=cpu) = onnx::Relu(%input.16) # C:\\Users\\isd.illia.maliha\\Anaconda3\\envs\\cv\\lib\\site-packages\\torch\\nn\\functional.py:1442:0\n",
      "  %input.24 : Float(1, 256, 19, 19, strides=[92416, 361, 19, 1], requires_grad=0, device=cpu) = onnx::Conv[dilations=[1, 1], group=1, kernel_shape=[3, 3], pads=[0, 0, 0, 0], strides=[1, 1]](%input.12, %bbox_p5_conv2.conv.weight, %bbox_p5_conv2.conv.bias) # C:\\Users\\isd.illia.maliha\\Anaconda3\\envs\\cv\\lib\\site-packages\\torch\\nn\\modules\\conv.py:443:0\n",
      "  %input.28 : Float(1, 256, 19, 19, strides=[92416, 361, 19, 1], requires_grad=1, device=cpu) = onnx::Relu(%input.24) # C:\\Users\\isd.illia.maliha\\Anaconda3\\envs\\cv\\lib\\site-packages\\torch\\nn\\functional.py:1442:0\n",
      "  %input.36 : Float(1, 256, 17, 17, strides=[73984, 289, 17, 1], requires_grad=1, device=cpu) = onnx::Conv[dilations=[1, 1], group=1, kernel_shape=[3, 3], pads=[0, 0, 0, 0], strides=[1, 1]](%input.20, %115, %116) # C:\\Users\\isd.illia.maliha\\Anaconda3\\envs\\cv\\lib\\site-packages\\torch\\nn\\modules\\conv.py:443:0\n",
      "  %fea : Float(1, 256, 17, 17, strides=[73984, 289, 17, 1], requires_grad=1, device=cpu) = onnx::Relu(%input.36) # C:\\Users\\isd.illia.maliha\\Anaconda3\\envs\\cv\\lib\\site-packages\\torch\\nn\\functional.py:1442:0\n",
      "  %input.48 : Float(1, 256, 17, 17, strides=[73984, 289, 17, 1], requires_grad=1, device=cpu) = onnx::Conv[dilations=[1, 1], group=1, kernel_shape=[3, 3], pads=[0, 0, 0, 0], strides=[1, 1]](%input.28, %118, %119) # C:\\Users\\isd.illia.maliha\\Anaconda3\\envs\\cv\\lib\\site-packages\\torch\\nn\\modules\\conv.py:443:0\n",
      "  %input.52 : Float(1, 256, 17, 17, strides=[73984, 289, 17, 1], requires_grad=1, device=cpu) = onnx::Relu(%input.48) # C:\\Users\\isd.illia.maliha\\Anaconda3\\envs\\cv\\lib\\site-packages\\torch\\nn\\functional.py:1442:0\n",
      "  %120 : Float(1, 1, 17, 17, strides=[289, 289, 17, 1], requires_grad=1, device=cpu) = onnx::Conv[dilations=[1, 1], group=1, kernel_shape=[1, 1], pads=[0, 0, 0, 0], strides=[1, 1]](%fea, %121, %122) # C:\\Users\\isd.illia.maliha\\Anaconda3\\envs\\cv\\lib\\site-packages\\torch\\nn\\modules\\conv.py:443:0\n",
      "  %63 : Float(1, 17, 17, 1, strides=[289, 17, 1, 289], requires_grad=1, device=cpu) = onnx::Transpose[perm=[0, 2, 3, 1]](%120) # C:\\Users\\isd.illia.maliha\\work\\SiamTrackers\\SiamFCpp\\SiamFCpp-video_analyst\\Notebooks\\..\\siamfcpp\\model\\task_head\\taskhead_impl\\track_head.py:98:0\n",
      "  %csl_score : Float(1, 289, 1, strides=[289, 1, 289], requires_grad=1, device=cpu) = onnx::Reshape(%63, %132) # C:\\Users\\isd.illia.maliha\\work\\SiamTrackers\\SiamFCpp\\SiamFCpp-video_analyst\\Notebooks\\..\\siamfcpp\\model\\task_head\\taskhead_impl\\track_head.py:99:0\n",
      "  %123 : Float(1, 1, 17, 17, strides=[289, 289, 17, 1], requires_grad=1, device=cpu) = onnx::Conv[dilations=[1, 1], group=1, kernel_shape=[1, 1], pads=[0, 0, 0, 0], strides=[1, 1]](%fea, %124, %125) # C:\\Users\\isd.illia.maliha\\Anaconda3\\envs\\cv\\lib\\site-packages\\torch\\nn\\modules\\conv.py:443:0\n",
      "  %74 : Float(1, 17, 17, 1, strides=[289, 17, 1, 289], requires_grad=1, device=cpu) = onnx::Transpose[perm=[0, 2, 3, 1]](%123) # C:\\Users\\isd.illia.maliha\\work\\SiamTrackers\\SiamFCpp\\SiamFCpp-video_analyst\\Notebooks\\..\\siamfcpp\\model\\task_head\\taskhead_impl\\track_head.py:102:0\n",
      "  %ctr_score : Float(1, 289, 1, strides=[289, 1, 289], requires_grad=1, device=cpu) = onnx::Reshape(%74, %136) # C:\\Users\\isd.illia.maliha\\work\\SiamTrackers\\SiamFCpp\\SiamFCpp-video_analyst\\Notebooks\\..\\siamfcpp\\model\\task_head\\taskhead_impl\\track_head.py:103:0\n",
      "  %126 : Float(1, 4, 17, 17, strides=[1156, 289, 17, 1], requires_grad=1, device=cpu) = onnx::Conv[dilations=[1, 1], group=1, kernel_shape=[1, 1], pads=[0, 0, 0, 0], strides=[1, 1]](%input.52, %127, %128) # C:\\Users\\isd.illia.maliha\\Anaconda3\\envs\\cv\\lib\\site-packages\\torch\\nn\\modules\\conv.py:443:0\n",
      "  %85 : Float(1, 4, 17, 17, strides=[1156, 289, 17, 1], requires_grad=1, device=cpu) = onnx::Mul(%si, %126) # C:\\Users\\isd.illia.maliha\\work\\SiamTrackers\\SiamFCpp\\SiamFCpp-video_analyst\\Notebooks\\..\\siamfcpp\\model\\task_head\\taskhead_impl\\track_head.py:106:0\n",
      "  %86 : Float(1, 4, 17, 17, strides=[1156, 289, 17, 1], requires_grad=1, device=cpu) = onnx::Add(%85, %bi) # C:\\Users\\isd.illia.maliha\\work\\SiamTrackers\\SiamFCpp\\SiamFCpp-video_analyst\\Notebooks\\..\\siamfcpp\\model\\task_head\\taskhead_impl\\track_head.py:106:0\n",
      "  %87 : Float(1, 4, 17, 17, strides=[1156, 289, 17, 1], requires_grad=1, device=cpu) = onnx::Exp(%86) # C:\\Users\\isd.illia.maliha\\work\\SiamTrackers\\SiamFCpp\\SiamFCpp-video_analyst\\Notebooks\\..\\siamfcpp\\model\\task_head\\taskhead_impl\\track_head.py:106:0\n",
      "  %88 : Float(requires_grad=0, device=cpu) = onnx::Constant[value={8}]()\n",
      "  %offsets : Float(1, 4, 17, 17, strides=[1156, 289, 17, 1], requires_grad=1, device=cpu) = onnx::Mul(%87, %88) # C:\\Users\\isd.illia.maliha\\work\\SiamTrackers\\SiamFCpp\\SiamFCpp-video_analyst\\Notebooks\\..\\siamfcpp\\model\\task_head\\taskhead_impl\\track_head.py:106:0\n",
      "  %90 : Float(1, 17, 17, 4, strides=[1156, 17, 1, 289], requires_grad=1, device=cpu) = onnx::Transpose[perm=[0, 2, 3, 1]](%offsets) # C:\\Users\\isd.illia.maliha\\work\\SiamTrackers\\SiamFCpp\\SiamFCpp-video_analyst\\Notebooks\\..\\siamfcpp\\model\\task_head\\taskhead_impl\\track_head.py:34:0\n",
      "  %98 : Float(1, 289, 4, strides=[289, 1, 289], requires_grad=1, device=cpu) = onnx::Reshape(%90, %140) # C:\\Users\\isd.illia.maliha\\work\\SiamTrackers\\SiamFCpp\\SiamFCpp-video_analyst\\Notebooks\\..\\siamfcpp\\model\\task_head\\taskhead_impl\\track_head.py:35:0\n",
      "  %99 : Long(1, strides=[1], device=cpu) = onnx::Constant[value={2}]() # C:\\Users\\isd.illia.maliha\\work\\SiamTrackers\\SiamFCpp\\SiamFCpp-video_analyst\\Notebooks\\..\\siamfcpp\\model\\task_head\\taskhead_impl\\track_head.py:37:0\n",
      "  %100 : Long(1, strides=[1], device=cpu) = onnx::Constant[value={0}]() # C:\\Users\\isd.illia.maliha\\work\\SiamTrackers\\SiamFCpp\\SiamFCpp-video_analyst\\Notebooks\\..\\siamfcpp\\model\\task_head\\taskhead_impl\\track_head.py:37:0\n",
      "  %101 : Long(1, strides=[1], device=cpu) = onnx::Constant[value={2}]() # C:\\Users\\isd.illia.maliha\\work\\SiamTrackers\\SiamFCpp\\SiamFCpp-video_analyst\\Notebooks\\..\\siamfcpp\\model\\task_head\\taskhead_impl\\track_head.py:37:0\n",
      "  %102 : Long(1, strides=[1], device=cpu) = onnx::Constant[value={1}]() # C:\\Users\\isd.illia.maliha\\work\\SiamTrackers\\SiamFCpp\\SiamFCpp-video_analyst\\Notebooks\\..\\siamfcpp\\model\\task_head\\taskhead_impl\\track_head.py:37:0\n",
      "  %103 : Float(1, 289, 2, strides=[289, 1, 289], requires_grad=1, device=cpu) = onnx::Slice(%98, %100, %101, %99, %102) # C:\\Users\\isd.illia.maliha\\work\\SiamTrackers\\SiamFCpp\\SiamFCpp-video_analyst\\Notebooks\\..\\siamfcpp\\model\\task_head\\taskhead_impl\\track_head.py:37:0\n",
      "  %104 : Float(1, 289, 2, strides=[578, 2, 1], requires_grad=0, device=cpu) = onnx::Constant[value=<Tensor>]()\n",
      "  %105 : Float(1, 289, 2, strides=[578, 2, 1], requires_grad=1, device=cpu) = onnx::Sub(%104, %103) # C:\\Users\\isd.illia.maliha\\work\\SiamTrackers\\SiamFCpp\\SiamFCpp-video_analyst\\Notebooks\\..\\siamfcpp\\model\\task_head\\taskhead_impl\\track_head.py:37:0\n",
      "  %106 : Long(1, strides=[1], device=cpu) = onnx::Constant[value={2}]() # C:\\Users\\isd.illia.maliha\\work\\SiamTrackers\\SiamFCpp\\SiamFCpp-video_analyst\\Notebooks\\..\\siamfcpp\\model\\task_head\\taskhead_impl\\track_head.py:38:0\n",
      "  %107 : Long(1, strides=[1], device=cpu) = onnx::Constant[value={2}]() # C:\\Users\\isd.illia.maliha\\work\\SiamTrackers\\SiamFCpp\\SiamFCpp-video_analyst\\Notebooks\\..\\siamfcpp\\model\\task_head\\taskhead_impl\\track_head.py:38:0\n",
      "  %108 : Long(1, strides=[1], device=cpu) = onnx::Constant[value={9223372036854775807}]() # C:\\Users\\isd.illia.maliha\\work\\SiamTrackers\\SiamFCpp\\SiamFCpp-video_analyst\\Notebooks\\..\\siamfcpp\\model\\task_head\\taskhead_impl\\track_head.py:38:0\n",
      "  %109 : Long(1, strides=[1], device=cpu) = onnx::Constant[value={1}]() # C:\\Users\\isd.illia.maliha\\work\\SiamTrackers\\SiamFCpp\\SiamFCpp-video_analyst\\Notebooks\\..\\siamfcpp\\model\\task_head\\taskhead_impl\\track_head.py:38:0\n",
      "  %110 : Float(1, 289, 2, strides=[289, 1, 289], requires_grad=1, device=cpu) = onnx::Slice(%98, %107, %108, %106, %109) # C:\\Users\\isd.illia.maliha\\work\\SiamTrackers\\SiamFCpp\\SiamFCpp-video_analyst\\Notebooks\\..\\siamfcpp\\model\\task_head\\taskhead_impl\\track_head.py:38:0\n",
      "  %111 : Float(1, 289, 2, strides=[578, 2, 1], requires_grad=0, device=cpu) = onnx::Constant[value=<Tensor>]()\n",
      "  %112 : Float(1, 289, 2, strides=[578, 2, 1], requires_grad=1, device=cpu) = onnx::Add(%111, %110) # C:\\Users\\isd.illia.maliha\\work\\SiamTrackers\\SiamFCpp\\SiamFCpp-video_analyst\\Notebooks\\..\\siamfcpp\\model\\task_head\\taskhead_impl\\track_head.py:38:0\n",
      "  %bbox : Float(1, 289, 4, strides=[1156, 4, 1], requires_grad=1, device=cpu) = onnx::Concat[axis=2](%105, %112) # C:\\Users\\isd.illia.maliha\\work\\SiamTrackers\\SiamFCpp\\SiamFCpp-video_analyst\\Notebooks\\..\\siamfcpp\\model\\task_head\\taskhead_impl\\track_head.py:39:0\n",
      "  return (%csl_score, %ctr_score, %bbox, %fea)\n",
      "\n"
     ]
    }
   ],
   "source": [
    "inp1 = torch.Tensor(np.random.uniform(size=(1,256,23,23)).astype(np.float32))\n",
    "inp2 = torch.Tensor(np.random.uniform(size=(1,256,23,23)).astype(np.float32))\n",
    "\n",
    "out = model.head(inp1, inp2)\n",
    "\n",
    "small_model_path = '../models/onnx/head.onnx'\n",
    "\n",
    "torch.onnx.export(model.head, \n",
    "                  (inp1,inp2), \n",
    "                  small_model_path, \n",
    "                  input_names=['input1', 'input2'], output_names=['csl_score', 'ctr_score', 'bbox', 'fea'],\n",
    "                  verbose=True, opset_version=11) \n",
    "\n",
    "simplified_model, check = simplify(small_model_path, skip_fuse_bn=False)\n",
    "onnx.save_model(simplified_model, small_model_path)"
   ]
  },
  {
   "cell_type": "code",
   "execution_count": null,
   "id": "fa45e4e8",
   "metadata": {},
   "outputs": [],
   "source": []
  },
  {
   "cell_type": "code",
   "execution_count": null,
   "id": "ffcb3ce0",
   "metadata": {},
   "outputs": [],
   "source": []
  },
  {
   "cell_type": "code",
   "execution_count": null,
   "id": "f7021559",
   "metadata": {},
   "outputs": [],
   "source": []
  }
 ],
 "metadata": {
  "hide_input": false,
  "kernelspec": {
   "display_name": "Python 3 (ipykernel)",
   "language": "python",
   "name": "python3"
  },
  "language_info": {
   "codemirror_mode": {
    "name": "ipython",
    "version": 3
   },
   "file_extension": ".py",
   "mimetype": "text/x-python",
   "name": "python",
   "nbconvert_exporter": "python",
   "pygments_lexer": "ipython3",
   "version": "3.9.16"
  }
 },
 "nbformat": 4,
 "nbformat_minor": 5
}
