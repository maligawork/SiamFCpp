{
 "cells": [
  {
   "cell_type": "code",
   "execution_count": 8,
   "id": "18b8d78f",
   "metadata": {},
   "outputs": [],
   "source": [
    "import numpy as np\n",
    "import os\n",
    "import glob\n",
    "import torch\n",
    "from torch.nn import functional as F"
   ]
  },
  {
   "cell_type": "code",
   "execution_count": 10,
   "id": "dd7b7975",
   "metadata": {},
   "outputs": [],
   "source": [
    "x1 = np.load('../datasets/head/head/0000000_1.npy')\n",
    "x2 = np.load('../datasets/head/head/0000000_2.npy')\n",
    "\n",
    "x = np.concatenate([x1,x2], axis=0)\n",
    "x = F.pad(torch.Tensor(x), (0,0,0,1))\n",
    "x = torch.reshape(x, (1, 3, 4096, 23)).numpy()"
   ]
  },
  {
   "cell_type": "code",
   "execution_count": 13,
   "id": "307e2753",
   "metadata": {},
   "outputs": [],
   "source": [
    "np.save('0000000.npy', x)"
   ]
  },
  {
   "cell_type": "code",
   "execution_count": null,
   "id": "025fc22f",
   "metadata": {},
   "outputs": [],
   "source": []
  },
  {
   "cell_type": "code",
   "execution_count": null,
   "id": "705aa702",
   "metadata": {},
   "outputs": [],
   "source": []
  }
 ],
 "metadata": {
  "hide_input": false,
  "kernelspec": {
   "display_name": "Python 3 (ipykernel)",
   "language": "python",
   "name": "python3"
  },
  "language_info": {
   "codemirror_mode": {
    "name": "ipython",
    "version": 3
   },
   "file_extension": ".py",
   "mimetype": "text/x-python",
   "name": "python",
   "nbconvert_exporter": "python",
   "pygments_lexer": "ipython3",
   "version": "3.9.16"
  }
 },
 "nbformat": 4,
 "nbformat_minor": 5
}
