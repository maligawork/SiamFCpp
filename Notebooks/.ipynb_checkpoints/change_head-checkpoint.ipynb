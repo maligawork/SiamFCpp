{
 "cells": [
  {
   "cell_type": "code",
   "execution_count": 1,
   "id": "ea05040d",
   "metadata": {},
   "outputs": [],
   "source": [
    "import os\n",
    "import sys\n",
    "\n",
    "import torch\n",
    "import torch.nn as nn\n",
    "import numpy as np\n",
    "\n",
    "import onnx\n",
    "from onnxsim import simplify\n",
    "import onnxruntime\n",
    "\n",
    "sys.path.append('../')\n",
    "\n",
    "from siamfcpp.config.config_head import cfg as root_cfg\n",
    "from siamfcpp.config.config_head import specify_task \n",
    "from siamfcpp.engine.builder import build as tester_builder\n",
    "from siamfcpp.model import builder_head as model_builder\n",
    "from siamfcpp.pipeline import builder as pipeline_builder\n",
    "from siamfcpp.utils import complete_path_wt_root_in_cfg\n",
    "\n",
    "from siamfcpp.model.task_head_new.taskhead_impl.track_head import get_box, get_xy_ctr\n",
    "\n",
    "from platforms.utils.onnx_utils import load_onnx, run_onnx"
   ]
  },
  {
   "cell_type": "code",
   "execution_count": 2,
   "id": "ea45e289",
   "metadata": {},
   "outputs": [],
   "source": [
    "config = '../models/siamfcpp/test/vot/siamfcpp_alexnet.yaml'\n",
    "model_path = '../models/snapshots/siamfcpp_alexnet-got/epoch-17.pkl'"
   ]
  },
  {
   "cell_type": "code",
   "execution_count": 3,
   "id": "1d93d47a",
   "metadata": {},
   "outputs": [],
   "source": [
    "exp_cfg_path = os.path.realpath(config)\n",
    "root_cfg.merge_from_file(exp_cfg_path)\n",
    "root_cfg.test.track.model.task_model.SiamTrack.pretrain_model_path = model_path\n",
    "\n",
    "# ROOT_PATH = os.getcwd() \n",
    "# root_cfg = complete_path_wt_root_in_cfg(root_cfg, ROOT_PATH)\n",
    "root_cfg = root_cfg.test\n",
    "task, task_cfg = specify_task(root_cfg)\n",
    "task_cfg.freeze()\n",
    "\n",
    "torch.multiprocessing.set_start_method('spawn', force=True)"
   ]
  },
  {
   "cell_type": "code",
   "execution_count": 4,
   "id": "08a12452",
   "metadata": {},
   "outputs": [
    {
     "name": "stderr",
     "output_type": "stream",
     "text": [
      "2023-03-14 09:57:30.738 | INFO     | siamfcpp.model.module_base:update_params:60 - Load pretrained SiamTrack parameters from: ../models/snapshots/siamfcpp_alexnet-got/epoch-17.pkl whose md5sum is 2a050730626f1b083baed91f9a5c4a52\n"
     ]
    }
   ],
   "source": [
    "model = model_builder.build(\"track\", task_cfg.model)"
   ]
  },
  {
   "cell_type": "markdown",
   "id": "7ac90296",
   "metadata": {},
   "source": [
    "#### head"
   ]
  },
  {
   "cell_type": "code",
   "execution_count": 5,
   "id": "ff3b7072",
   "metadata": {
    "scrolled": true
   },
   "outputs": [
    {
     "name": "stdout",
     "output_type": "stream",
     "text": [
      "graph(%input1 : Float(1, 256, 23, 23, strides=[135424, 529, 23, 1], requires_grad=0, device=cpu),\n",
      "      %input2 : Float(1, 256, 23, 23, strides=[135424, 529, 23, 1], requires_grad=0, device=cpu),\n",
      "      %cls_p5_conv1.conv.weight : Float(256, 256, 3, 3, strides=[2304, 9, 3, 1], requires_grad=1, device=cpu),\n",
      "      %cls_p5_conv1.conv.bias : Float(256, strides=[1], requires_grad=1, device=cpu),\n",
      "      %bbox_p5_conv1.conv.weight : Float(256, 256, 3, 3, strides=[2304, 9, 3, 1], requires_grad=1, device=cpu),\n",
      "      %bbox_p5_conv1.conv.bias : Float(256, strides=[1], requires_grad=1, device=cpu),\n",
      "      %cls_p5_conv2.conv.weight : Float(256, 256, 3, 3, strides=[2304, 9, 3, 1], requires_grad=1, device=cpu),\n",
      "      %cls_p5_conv2.conv.bias : Float(256, strides=[1], requires_grad=1, device=cpu),\n",
      "      %bbox_p5_conv2.conv.weight : Float(256, 256, 3, 3, strides=[2304, 9, 3, 1], requires_grad=1, device=cpu),\n",
      "      %bbox_p5_conv2.conv.bias : Float(256, strides=[1], requires_grad=1, device=cpu),\n",
      "      %86 : Float(256, 256, 3, 3, strides=[2304, 9, 3, 1], requires_grad=0, device=cpu),\n",
      "      %87 : Float(256, strides=[1], requires_grad=0, device=cpu),\n",
      "      %89 : Float(256, 256, 3, 3, strides=[2304, 9, 3, 1], requires_grad=0, device=cpu),\n",
      "      %90 : Float(256, strides=[1], requires_grad=0, device=cpu),\n",
      "      %92 : Float(1, 256, 1, 1, strides=[256, 1, 1, 1], requires_grad=0, device=cpu),\n",
      "      %93 : Float(1, strides=[1], requires_grad=0, device=cpu),\n",
      "      %95 : Float(1, 256, 1, 1, strides=[256, 1, 1, 1], requires_grad=0, device=cpu),\n",
      "      %96 : Float(1, strides=[1], requires_grad=0, device=cpu),\n",
      "      %98 : Float(4, 256, 1, 1, strides=[256, 1, 1, 1], requires_grad=0, device=cpu),\n",
      "      %99 : Float(4, strides=[1], requires_grad=0, device=cpu),\n",
      "      %103 : Long(3, strides=[1], requires_grad=0, device=cpu),\n",
      "      %107 : Long(3, strides=[1], requires_grad=0, device=cpu)):\n",
      "  %input : Float(1, 256, 21, 21, strides=[112896, 441, 21, 1], requires_grad=0, device=cpu) = onnx::Conv[dilations=[1, 1], group=1, kernel_shape=[3, 3], pads=[0, 0, 0, 0], strides=[1, 1]](%input1, %cls_p5_conv1.conv.weight, %cls_p5_conv1.conv.bias) # C:\\Users\\isd.illia.maliha\\Anaconda3\\envs\\cv\\lib\\site-packages\\torch\\nn\\modules\\conv.py:443:0\n",
      "  %input.4 : Float(1, 256, 21, 21, strides=[112896, 441, 21, 1], requires_grad=1, device=cpu) = onnx::Relu(%input) # C:\\Users\\isd.illia.maliha\\Anaconda3\\envs\\cv\\lib\\site-packages\\torch\\nn\\functional.py:1442:0\n",
      "  %input.8 : Float(1, 256, 21, 21, strides=[112896, 441, 21, 1], requires_grad=0, device=cpu) = onnx::Conv[dilations=[1, 1], group=1, kernel_shape=[3, 3], pads=[0, 0, 0, 0], strides=[1, 1]](%input2, %bbox_p5_conv1.conv.weight, %bbox_p5_conv1.conv.bias) # C:\\Users\\isd.illia.maliha\\Anaconda3\\envs\\cv\\lib\\site-packages\\torch\\nn\\modules\\conv.py:443:0\n",
      "  %input.12 : Float(1, 256, 21, 21, strides=[112896, 441, 21, 1], requires_grad=1, device=cpu) = onnx::Relu(%input.8) # C:\\Users\\isd.illia.maliha\\Anaconda3\\envs\\cv\\lib\\site-packages\\torch\\nn\\functional.py:1442:0\n",
      "  %input.16 : Float(1, 256, 19, 19, strides=[92416, 361, 19, 1], requires_grad=0, device=cpu) = onnx::Conv[dilations=[1, 1], group=1, kernel_shape=[3, 3], pads=[0, 0, 0, 0], strides=[1, 1]](%input.4, %cls_p5_conv2.conv.weight, %cls_p5_conv2.conv.bias) # C:\\Users\\isd.illia.maliha\\Anaconda3\\envs\\cv\\lib\\site-packages\\torch\\nn\\modules\\conv.py:443:0\n",
      "  %input.20 : Float(1, 256, 19, 19, strides=[92416, 361, 19, 1], requires_grad=1, device=cpu) = onnx::Relu(%input.16) # C:\\Users\\isd.illia.maliha\\Anaconda3\\envs\\cv\\lib\\site-packages\\torch\\nn\\functional.py:1442:0\n",
      "  %input.24 : Float(1, 256, 19, 19, strides=[92416, 361, 19, 1], requires_grad=0, device=cpu) = onnx::Conv[dilations=[1, 1], group=1, kernel_shape=[3, 3], pads=[0, 0, 0, 0], strides=[1, 1]](%input.12, %bbox_p5_conv2.conv.weight, %bbox_p5_conv2.conv.bias) # C:\\Users\\isd.illia.maliha\\Anaconda3\\envs\\cv\\lib\\site-packages\\torch\\nn\\modules\\conv.py:443:0\n",
      "  %input.28 : Float(1, 256, 19, 19, strides=[92416, 361, 19, 1], requires_grad=1, device=cpu) = onnx::Relu(%input.24) # C:\\Users\\isd.illia.maliha\\Anaconda3\\envs\\cv\\lib\\site-packages\\torch\\nn\\functional.py:1442:0\n",
      "  %input.36 : Float(1, 256, 17, 17, strides=[73984, 289, 17, 1], requires_grad=1, device=cpu) = onnx::Conv[dilations=[1, 1], group=1, kernel_shape=[3, 3], pads=[0, 0, 0, 0], strides=[1, 1]](%input.20, %86, %87) # C:\\Users\\isd.illia.maliha\\Anaconda3\\envs\\cv\\lib\\site-packages\\torch\\nn\\modules\\conv.py:443:0\n",
      "  %fea : Float(1, 256, 17, 17, strides=[73984, 289, 17, 1], requires_grad=1, device=cpu) = onnx::Relu(%input.36) # C:\\Users\\isd.illia.maliha\\Anaconda3\\envs\\cv\\lib\\site-packages\\torch\\nn\\functional.py:1442:0\n",
      "  %input.48 : Float(1, 256, 17, 17, strides=[73984, 289, 17, 1], requires_grad=1, device=cpu) = onnx::Conv[dilations=[1, 1], group=1, kernel_shape=[3, 3], pads=[0, 0, 0, 0], strides=[1, 1]](%input.28, %89, %90) # C:\\Users\\isd.illia.maliha\\Anaconda3\\envs\\cv\\lib\\site-packages\\torch\\nn\\modules\\conv.py:443:0\n",
      "  %input.52 : Float(1, 256, 17, 17, strides=[73984, 289, 17, 1], requires_grad=1, device=cpu) = onnx::Relu(%input.48) # C:\\Users\\isd.illia.maliha\\Anaconda3\\envs\\cv\\lib\\site-packages\\torch\\nn\\functional.py:1442:0\n",
      "  %91 : Float(1, 1, 17, 17, strides=[289, 289, 17, 1], requires_grad=1, device=cpu) = onnx::Conv[dilations=[1, 1], group=1, kernel_shape=[1, 1], pads=[0, 0, 0, 0], strides=[1, 1]](%fea, %92, %93) # C:\\Users\\isd.illia.maliha\\Anaconda3\\envs\\cv\\lib\\site-packages\\torch\\nn\\modules\\conv.py:443:0\n",
      "  %63 : Float(1, 17, 17, 1, strides=[289, 17, 1, 289], requires_grad=1, device=cpu) = onnx::Transpose[perm=[0, 2, 3, 1]](%91) # C:\\Users\\isd.illia.maliha\\work\\SiamFCpp\\Notebooks\\..\\siamfcpp\\model\\task_head_new\\taskhead_impl\\track_head.py:98:0\n",
      "  %csl_score : Float(1, 289, 1, strides=[289, 1, 289], requires_grad=1, device=cpu) = onnx::Reshape(%63, %103) # C:\\Users\\isd.illia.maliha\\work\\SiamFCpp\\Notebooks\\..\\siamfcpp\\model\\task_head_new\\taskhead_impl\\track_head.py:99:0\n",
      "  %94 : Float(1, 1, 17, 17, strides=[289, 289, 17, 1], requires_grad=1, device=cpu) = onnx::Conv[dilations=[1, 1], group=1, kernel_shape=[1, 1], pads=[0, 0, 0, 0], strides=[1, 1]](%fea, %95, %96) # C:\\Users\\isd.illia.maliha\\Anaconda3\\envs\\cv\\lib\\site-packages\\torch\\nn\\modules\\conv.py:443:0\n",
      "  %74 : Float(1, 17, 17, 1, strides=[289, 17, 1, 289], requires_grad=1, device=cpu) = onnx::Transpose[perm=[0, 2, 3, 1]](%94) # C:\\Users\\isd.illia.maliha\\work\\SiamFCpp\\Notebooks\\..\\siamfcpp\\model\\task_head_new\\taskhead_impl\\track_head.py:102:0\n",
      "  %ctr_score : Float(1, 289, 1, strides=[289, 1, 289], requires_grad=1, device=cpu) = onnx::Reshape(%74, %107) # C:\\Users\\isd.illia.maliha\\work\\SiamFCpp\\Notebooks\\..\\siamfcpp\\model\\task_head_new\\taskhead_impl\\track_head.py:103:0\n",
      "  %offsets : Float(1, 4, 17, 17, strides=[1156, 289, 17, 1], requires_grad=1, device=cpu) = onnx::Conv[dilations=[1, 1], group=1, kernel_shape=[1, 1], pads=[0, 0, 0, 0], strides=[1, 1]](%input.52, %98, %99) # C:\\Users\\isd.illia.maliha\\Anaconda3\\envs\\cv\\lib\\site-packages\\torch\\nn\\modules\\conv.py:443:0\n",
      "  return (%csl_score, %ctr_score, %offsets, %fea)\n",
      "\n"
     ]
    }
   ],
   "source": [
    "inp1 = torch.Tensor(np.random.uniform(size=(1,256,23,23)).astype(np.float32))\n",
    "inp2 = torch.Tensor(np.random.uniform(size=(1,256,23,23)).astype(np.float32))\n",
    "\n",
    "torch_model = model.head\n",
    "torch_model.eval()\n",
    "\n",
    "out = torch_model(inp1, inp2)\n",
    "\n",
    "small_model_path = '../models/onnx/head_5.onnx'\n",
    "\n",
    "torch.onnx.export(torch_model, \n",
    "                  (inp1,inp2), \n",
    "                  small_model_path, \n",
    "                  input_names=['input1', 'input2'], output_names=['csl_score', 'ctr_score', 'offsets', 'fea'],\n",
    "                  verbose=True, opset_version=11) \n",
    "\n",
    "simplified_model, check = simplify(small_model_path, skip_fuse_bn=False)\n",
    "onnx.save_model(simplified_model, small_model_path)"
   ]
  },
  {
   "cell_type": "code",
   "execution_count": 6,
   "id": "fa45e4e8",
   "metadata": {},
   "outputs": [
    {
     "name": "stdout",
     "output_type": "stream",
     "text": [
      "tensor(-4.88758087e-05, grad_fn=<SumBackward0>)\n"
     ]
    }
   ],
   "source": [
    "np.random.seed(42)\n",
    "\n",
    "inp1 = torch.Tensor(np.random.uniform(size=(1,256,23,23)).astype(np.float32))\n",
    "inp2 = torch.Tensor(np.random.uniform(size=(1,256,23,23)).astype(np.float32))\n",
    "\n",
    "out = torch_model(inp1, inp2)\n",
    "\n",
    "onnx_model = load_onnx(small_model_path, 'CUDAExecutionProvider')\n",
    "out_onnx = run_onnx(onnx_model, {'input1': inp1.numpy().copy(), 'input2': inp2.numpy().copy()})\n",
    "\n",
    "onnx_default = load_onnx('../models/onnx/head.onnx', 'CUDAExecutionProvider')\n",
    "out_default = run_onnx(onnx_default, {'input1': inp1.numpy().copy(), 'input2': inp2.numpy().copy()})\n",
    "\n",
    "idx = 0\n",
    "\n",
    "print(torch.sum(out[idx]-torch.Tensor(out_onnx[idx])))"
   ]
  },
  {
   "cell_type": "code",
   "execution_count": 7,
   "id": "2cf6bb92",
   "metadata": {},
   "outputs": [],
   "source": [
    "offsets = out_onnx[2].copy()\n",
    "offsets = np.exp(offsets*0.6790788769721985 + 1.6184018850326538) * 8\n",
    "ctr = get_xy_ctr(17, 87, 8)\n",
    "offset = get_box(ctr, torch.Tensor(offsets)).numpy()\n",
    "out_onnx[2] = offset"
   ]
  },
  {
   "cell_type": "code",
   "execution_count": 13,
   "id": "44c8f0fd",
   "metadata": {},
   "outputs": [
    {
     "name": "stdout",
     "output_type": "stream",
     "text": [
      "0.00015258789\n"
     ]
    }
   ],
   "source": [
    "idx = 2\n",
    "\n",
    "print(np.sum(out_default[idx]-out_onnx[idx]))"
   ]
  },
  {
   "cell_type": "code",
   "execution_count": null,
   "id": "077ee3b5",
   "metadata": {},
   "outputs": [],
   "source": []
  }
 ],
 "metadata": {
  "hide_input": false,
  "kernelspec": {
   "display_name": "Python 3 (ipykernel)",
   "language": "python",
   "name": "python3"
  },
  "language_info": {
   "codemirror_mode": {
    "name": "ipython",
    "version": 3
   },
   "file_extension": ".py",
   "mimetype": "text/x-python",
   "name": "python",
   "nbconvert_exporter": "python",
   "pygments_lexer": "ipython3",
   "version": "3.9.16"
  }
 },
 "nbformat": 4,
 "nbformat_minor": 5
}
